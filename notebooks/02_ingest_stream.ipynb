{
 "cells": [
  {
   "cell_type": "code",
   "execution_count": 0,
   "metadata": {
    "application/vnd.databricks.v1+cell": {
     "cellMetadata": {},
     "inputWidgets": {},
     "nuid": "02f00160-dbaa-4579-ac06-b52e677cf2c5",
     "showTitle": false,
     "tableResultSettingsMap": {},
     "title": ""
    }
   },
   "outputs": [],
   "source": [
    "claims_stream_schema = StructType([\n",
    "    StructField(\"ClaimID\", StringType(), True),\n",
    "    StructField(\"MemberID\", StringType(), True),\n",
    "    StructField(\"ProviderID\", StringType(), True),\n",
    "    StructField(\"ClaimDate\", DateType(), True),\n",
    "    StructField(\"ServiceDate\", DateType(), True),\n",
    "    StructField(\"Amount\", DoubleType(), True),\n",
    "    StructField(\"DiagnosisCode\", StringType(), True),\n",
    "    StructField(\"IngestTimestamp\", TimestampType(), True)\n",
    "])\n",
    "\n",
    "stream_df = (spark.readStream\n",
    "                  .schema(claims_stream_schema)\n",
    "                  .json(\"/Volumes/workspace/default/vol_in/claims_stream.json\")\n",
    "                  .withColumn(\"ingest_ts\", F.current_timestamp()))\n",
    "\n",
    "(claims_stream_df.writeStream\n",
    "    .format(\"delta\")\n",
    "    .outputMode(\"append\")\n",
    "    .option(\"checkpointLocation\", \"/Volumes/workspace/default/checkpoints/claims_stream\")\n",
    "    .toTable(\"workspace.healthcare.bronze_claims_stream\"))"
   ]
  }
 ],
 "metadata": {
  "application/vnd.databricks.v1+notebook": {
   "computePreferences": null,
   "dashboards": [],
   "environmentMetadata": {
    "base_environment": "",
    "environment_version": "3"
   },
   "inputWidgetPreferences": null,
   "language": "python",
   "notebookMetadata": {
    "pythonIndentUnit": 4
   },
   "notebookName": "02_ingest_stream",
   "widgets": {}
  },
  "language_info": {
   "name": "python"
  }
 },
 "nbformat": 4,
 "nbformat_minor": 0
}
