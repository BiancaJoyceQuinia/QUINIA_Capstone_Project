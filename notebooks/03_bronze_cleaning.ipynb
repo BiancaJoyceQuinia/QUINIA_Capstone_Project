{
 "cells": [
  {
   "cell_type": "code",
   "execution_count": 0,
   "metadata": {
    "application/vnd.databricks.v1+cell": {
     "cellMetadata": {},
     "inputWidgets": {},
     "nuid": "164e7d2e-fbd2-4a2a-9f31-834757e83d48",
     "showTitle": false,
     "tableResultSettingsMap": {},
     "title": ""
    }
   },
   "outputs": [],
   "source": [
    "bronze_df = spark.table(\"workspace.healthcare.bronze_claims_raw\")\n",
    "\n",
    "# Null profile\n",
    "display(\n",
    "    bronze_df.select([\n",
    "        F.count(F.when(F.col(c).isNull(), c)).alias(c+\"_nulls\")\n",
    "        for c in bronze_df.columns\n",
    "    ])\n",
    ")\n",
    "\n",
    "# Deduplicate\n",
    "from pyspark.sql.window import Window\n",
    "w = Window.partitionBy(\"ClaimID\").orderBy(F.col(\"ingest_ts\").desc())\n",
    "deduped = (bronze_df\n",
    "           .withColumn(\"rn\", F.row_number().over(w))\n",
    "           .filter(\"rn=1\")\n",
    "           .drop(\"rn\"))\n",
    "\n",
    "display(deduped.limit(5))"
   ]
  }
 ],
 "metadata": {
  "application/vnd.databricks.v1+notebook": {
   "computePreferences": null,
   "dashboards": [],
   "environmentMetadata": {
    "base_environment": "",
    "environment_version": "3"
   },
   "inputWidgetPreferences": null,
   "language": "python",
   "notebookMetadata": {
    "pythonIndentUnit": 4
   },
   "notebookName": "03_bronze_cleaning",
   "widgets": {}
  },
  "language_info": {
   "name": "python"
  }
 },
 "nbformat": 4,
 "nbformat_minor": 0
}
