{
 "cells": [
  {
   "cell_type": "code",
   "execution_count": 0,
   "metadata": {
    "application/vnd.databricks.v1+cell": {
     "cellMetadata": {},
     "inputWidgets": {},
     "nuid": "335965ef-c1ec-495a-a3f5-6446f0754327",
     "showTitle": false,
     "tableResultSettingsMap": {},
     "title": ""
    }
   },
   "outputs": [],
   "source": [
    "HIGH_AMOUNT_THRESHOLD = 10000.0\n",
    "\n",
    "df = spark.table(\"workspace.healthcare.silver_claims_enriched_v1\")\n",
    "\n",
    "scored = (df\n",
    "          .withColumn(\"score_amount\", F.when(F.col(\"claim_amount\") > HIGH_AMOUNT_THRESHOLD, 0.6).otherwise(0.0))\n",
    "          .withColumn(\"score_diag\", F.when(F.col(\"diagnosis_high_risk\")==True, 0.3).otherwise(0.0))\n",
    "          .withColumn(\"fraud_score\", F.col(\"score_amount\")+F.col(\"score_diag\"))\n",
    "          .withColumn(\"risk_bucket\",\n",
    "                      F.when(F.col(\"fraud_score\")>=0.7,\"high\")\n",
    "                       .when(F.col(\"fraud_score\")>=0.3,\"medium\")\n",
    "                       .otherwise(\"low\")))\n",
    "\n",
    "display(scored.limit(5))"
   ]
  }
 ],
 "metadata": {
  "application/vnd.databricks.v1+notebook": {
   "computePreferences": null,
   "dashboards": [],
   "environmentMetadata": {
    "base_environment": "",
    "environment_version": "3"
   },
   "inputWidgetPreferences": null,
   "language": "python",
   "notebookMetadata": {
    "pythonIndentUnit": 4
   },
   "notebookName": "05_gold_fraud_scoring",
   "widgets": {}
  },
  "language_info": {
   "name": "python"
  }
 },
 "nbformat": 4,
 "nbformat_minor": 0
}
