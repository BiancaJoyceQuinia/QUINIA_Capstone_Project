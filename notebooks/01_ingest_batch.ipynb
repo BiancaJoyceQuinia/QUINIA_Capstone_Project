{
 "cells": [
  {
   "cell_type": "code",
   "execution_count": 0,
   "metadata": {
    "application/vnd.databricks.v1+cell": {
     "cellMetadata": {
      "byteLimit": 2048000,
      "rowLimit": 10000
     },
     "inputWidgets": {},
     "nuid": "4809265e-b1f4-4188-9662-7dbe98d2f4e6",
     "showTitle": false,
     "tableResultSettingsMap": {},
     "title": ""
    }
   },
   "outputs": [],
   "source": [
    "from pyspark.sql.types import StructType, StructField, StringType, DoubleType, DateType, TimestampType\n",
    "\n",
    "# Schema for claims batch\n",
    "claims_schema = StructType([\n",
    "    StructField(\"ClaimID\", StringType(), True),\n",
    "    StructField(\"MemberID\", StringType(), True),\n",
    "    StructField(\"ProviderID\", StringType(), True),\n",
    "    StructField(\"ClaimDate\", DateType(), True),\n",
    "    StructField(\"ServiceDate\", DateType(), True),\n",
    "    StructField(\"Amount\", DoubleType(), True),\n",
    "    StructField(\"Status\", StringType(), True),\n",
    "    StructField(\"ICD10Codes\", StringType(), True),\n",
    "    StructField(\"CPTCodes\", StringType(), True),\n",
    "    StructField(\"ClaimType\", StringType(), True),\n",
    "    StructField(\"SubmissionChannel\", StringType(), True),\n",
    "    StructField(\"Notes\", StringType(), True),\n",
    "    StructField(\"IngestTimestamp\", TimestampType(), True)\n",
    "])\n",
    "\n",
    "claims_batch_df = (\n",
    "    spark.read\n",
    "         .option(\"header\", \"true\")\n",
    "         .schema(claims_schema)\n",
    "         .csv(\"/Volumes/workspace/default/vol_in/claims_batch.csv\")\n",
    "         .withColumn(\"ingest_ts\", F.current_timestamp())\n",
    ")\n",
    "\n",
    "claims_batch_df.write.mode(\"overwrite\").format(\"delta\").saveAsTable(\"workspace.healthcare.bronze_claims_raw\")\n",
    "\n",
    "display(claims_batch_df.limit(10))"
   ]
  }
 ],
 "metadata": {
  "application/vnd.databricks.v1+notebook": {
   "computePreferences": {
    "hardware": {
     "accelerator": null,
     "gpuPoolId": null,
     "memory": null
    }
   },
   "dashboards": [],
   "environmentMetadata": {
    "base_environment": "",
    "environment_version": "3"
   },
   "inputWidgetPreferences": null,
   "language": "python",
   "notebookMetadata": {
    "mostRecentlyExecutedCommandWithImplicitDF": {
     "commandId": 6190590596446539,
     "dataframes": [
      "_sqldf"
     ]
    },
    "pythonIndentUnit": 4
   },
   "notebookName": "01_ingest_batch",
   "widgets": {}
  },
  "language_info": {
   "name": "python"
  }
 },
 "nbformat": 4,
 "nbformat_minor": 0
}
