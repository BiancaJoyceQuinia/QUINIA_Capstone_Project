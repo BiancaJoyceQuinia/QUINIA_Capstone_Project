{
 "cells": [
  {
   "cell_type": "code",
   "execution_count": 0,
   "metadata": {
    "application/vnd.databricks.v1+cell": {
     "cellMetadata": {
      "byteLimit": 2048000,
      "rowLimit": 10000
     },
     "inputWidgets": {},
     "nuid": "937bd471-9d08-4496-8a61-f8b5b23ee37d",
     "showTitle": false,
     "tableResultSettingsMap": {},
     "title": ""
    }
   },
   "outputs": [],
   "source": [
    "# Databricks Notebook: 06_delta_features\n",
    "\n",
    "from pyspark.sql import functions as F"
   ]
  },
  {
   "cell_type": "code",
   "execution_count": 0,
   "metadata": {
    "application/vnd.databricks.v1+cell": {
     "cellMetadata": {
      "byteLimit": 2048000,
      "implicitDf": true,
      "rowLimit": 10000
     },
     "inputWidgets": {},
     "nuid": "ba6c0ced-f2ed-441e-9c5f-9453bd8cc6c8",
     "showTitle": false,
     "tableResultSettingsMap": {},
     "title": ""
    }
   },
   "outputs": [],
   "source": [
    "%sql\n",
    "CREATE OR REPLACE TABLE workspace.healthcare.gold_claims_fraud_scores_table AS\n",
    "SELECT * FROM workspace.healthcare.gold_claims_fraud_scores;"
   ]
  },
  {
   "cell_type": "code",
   "execution_count": 0,
   "metadata": {
    "application/vnd.databricks.v1+cell": {
     "cellMetadata": {
      "byteLimit": 2048000,
      "implicitDf": true,
      "rowLimit": 10000
     },
     "inputWidgets": {},
     "nuid": "6d38b30e-26d5-4155-9775-fa23f785c732",
     "showTitle": false,
     "tableResultSettingsMap": {},
     "title": ""
    }
   },
   "outputs": [],
   "source": [
    "%sql\n",
    "-- History\n",
    "DESCRIBE HISTORY workspace.healthcare.gold_claims_fraud_scores_table;"
   ]
  },
  {
   "cell_type": "code",
   "execution_count": 0,
   "metadata": {
    "application/vnd.databricks.v1+cell": {
     "cellMetadata": {
      "byteLimit": 2048000,
      "implicitDf": true,
      "rowLimit": 10000
     },
     "inputWidgets": {},
     "nuid": "2ad03a7d-d9f9-46c6-9408-561eae8f6634",
     "showTitle": false,
     "tableResultSettingsMap": {},
     "title": ""
    }
   },
   "outputs": [],
   "source": [
    "%sql\n",
    "-- Time travel\n",
    "SELECT * FROM workspace.healthcare.gold_claims_fraud_scores_table VERSION AS OF 0 LIMIT 10;"
   ]
  },
  {
   "cell_type": "code",
   "execution_count": 0,
   "metadata": {
    "application/vnd.databricks.v1+cell": {
     "cellMetadata": {
      "byteLimit": 2048000,
      "rowLimit": 10000
     },
     "inputWidgets": {},
     "nuid": "b021b6c2-8ad2-45a7-8837-8b935379d2d3",
     "showTitle": false,
     "tableResultSettingsMap": {},
     "title": ""
    }
   },
   "outputs": [],
   "source": []
  },
  {
   "cell_type": "code",
   "execution_count": 0,
   "metadata": {
    "application/vnd.databricks.v1+cell": {
     "cellMetadata": {
      "byteLimit": 2048000,
      "implicitDf": true,
      "rowLimit": 10000
     },
     "inputWidgets": {},
     "nuid": "c9759e65-6437-4648-ad0d-348d79c2d6cd",
     "showTitle": false,
     "tableResultSettingsMap": {},
     "title": ""
    }
   },
   "outputs": [],
   "source": [
    "%sql\n",
    "-- Optimization\n",
    "OPTIMIZE workspace.healthcare.gold_claims_fraud_scores_table\n",
    "ZORDER BY (risk_bucket);"
   ]
  },
  {
   "cell_type": "code",
   "execution_count": 0,
   "metadata": {
    "application/vnd.databricks.v1+cell": {
     "cellMetadata": {
      "byteLimit": 2048000,
      "implicitDf": true,
      "rowLimit": 10000
     },
     "inputWidgets": {},
     "nuid": "cca7d9d6-d124-4a64-93d8-4245e89bab19",
     "showTitle": false,
     "tableResultSettingsMap": {},
     "title": ""
    }
   },
   "outputs": [],
   "source": [
    "%sql\n",
    "-- Vacuum\n",
    "VACUUM workspace.healthcare.gold_claims_fraud_scores_table RETAIN 168 HOURS;"
   ]
  },
  {
   "cell_type": "code",
   "execution_count": 0,
   "metadata": {
    "application/vnd.databricks.v1+cell": {
     "cellMetadata": {
      "byteLimit": 2048000,
      "rowLimit": 10000
     },
     "inputWidgets": {},
     "nuid": "dedbceef-1ae1-41c1-b9ac-082667db54c1",
     "showTitle": true,
     "tableResultSettingsMap": {},
     "title": "PIPELINE VALIDATION TESTS"
    }
   },
   "outputs": [],
   "source": [
    "total_claims = spark.sql(\"\"\"\n",
    "    SELECT COUNT(*) AS cnt\n",
    "    FROM workspace.healthcare.silver_claims_dedup\n",
    "\"\"\").collect()[0][\"cnt\"]\n",
    "\n",
    "print(f\"✅ Total claims ingested (deduped): {total_claims}\")"
   ]
  },
  {
   "cell_type": "code",
   "execution_count": 0,
   "metadata": {
    "application/vnd.databricks.v1+cell": {
     "cellMetadata": {
      "byteLimit": 2048000,
      "rowLimit": 10000
     },
     "inputWidgets": {},
     "nuid": "835cf4e3-02c3-437f-b91c-369fe22bfc18",
     "showTitle": false,
     "tableResultSettingsMap": {},
     "title": ""
    }
   },
   "outputs": [],
   "source": [
    "high_risk_alerts = spark.sql(\"\"\"\n",
    "    SELECT COUNT(*) AS cnt\n",
    "    FROM workspace.healthcare.gold_fraud_alerts\n",
    "\"\"\").collect()[0][\"cnt\"]\n",
    "\n",
    "print(f\"🚨 High-risk alerts generated: {high_risk_alerts}\")"
   ]
  },
  {
   "cell_type": "code",
   "execution_count": 0,
   "metadata": {
    "application/vnd.databricks.v1+cell": {
     "cellMetadata": {
      "byteLimit": 2048000,
      "rowLimit": 10000
     },
     "inputWidgets": {},
     "nuid": "b4fb47a7-dcc0-41e6-b61e-73a3557012f1",
     "showTitle": false,
     "tableResultSettingsMap": {},
     "title": ""
    }
   },
   "outputs": [],
   "source": [
    "risk_dist = spark.sql(\"\"\"\n",
    "    SELECT risk_bucket, COUNT(*) AS cnt\n",
    "    FROM workspace.healthcare.gold_claims_fraud_scores\n",
    "    GROUP BY risk_bucket\n",
    "    ORDER BY cnt DESC\n",
    "\"\"\")\n",
    "\n",
    "display(risk_dist)\n"
   ]
  },
  {
   "cell_type": "code",
   "execution_count": 0,
   "metadata": {
    "application/vnd.databricks.v1+cell": {
     "cellMetadata": {
      "byteLimit": 2048000,
      "rowLimit": 10000
     },
     "inputWidgets": {},
     "nuid": "3d1d1e63-bd73-484e-86ae-bacb69818002",
     "showTitle": false,
     "tableResultSettingsMap": {},
     "title": ""
    }
   },
   "outputs": [],
   "source": [
    "sample_alerts = spark.sql(\"\"\"\n",
    "    SELECT ClaimID, MemberID, ProviderID, Amount, Diagnosis_Code, fraud_score, risk_bucket\n",
    "    FROM workspace.healthcare.gold_fraud_alerts\n",
    "    LIMIT 10\n",
    "\"\"\")\n",
    "\n",
    "display(sample_alerts)"
   ]
  },
  {
   "cell_type": "code",
   "execution_count": 0,
   "metadata": {
    "application/vnd.databricks.v1+cell": {
     "cellMetadata": {
      "byteLimit": 2048000,
      "rowLimit": 10000
     },
     "inputWidgets": {},
     "nuid": "58a50feb-4192-4f9e-8a84-8309576a5c06",
     "showTitle": true,
     "tableResultSettingsMap": {},
     "title": "Data Quality Checks"
    }
   },
   "outputs": [],
   "source": [
    "# Example: % of claims missing MemberID\n",
    "missing_members = spark.sql(\"\"\"\n",
    "    SELECT COUNT(*) AS cnt\n",
    "    FROM default.silver_claims_enriched_v1\n",
    "    WHERE MemberID IS NULL\n",
    "\"\"\").collect()[0][\"cnt\"]\n",
    "\n",
    "print(f\"⚠️ Claims missing MemberID: {missing_members}\")"
   ]
  },
  {
   "cell_type": "code",
   "execution_count": 0,
   "metadata": {
    "application/vnd.databricks.v1+cell": {
     "cellMetadata": {
      "byteLimit": 2048000,
      "rowLimit": 10000
     },
     "inputWidgets": {},
     "nuid": "bd65e844-6946-4de8-8252-635ef3c3c358",
     "showTitle": false,
     "tableResultSettingsMap": {},
     "title": ""
    }
   },
   "outputs": [],
   "source": [
    "# Example: Claims with invalid FK (is_valid = false)\n",
    "invalid_claims = spark.sql(\"\"\"\n",
    "    SELECT COUNT(*) AS cnt\n",
    "    FROM default.silver_invalid_claims\n",
    "\"\"\").collect()[0][\"cnt\"]\n",
    "\n",
    "print(f\"❌ Invalid claims flagged: {invalid_claims}\")"
   ]
  }
 ],
 "metadata": {
  "application/vnd.databricks.v1+notebook": {
   "computePreferences": null,
   "dashboards": [],
   "environmentMetadata": {
    "base_environment": "",
    "environment_version": "3"
   },
   "inputWidgetPreferences": null,
   "language": "python",
   "notebookMetadata": {
    "mostRecentlyExecutedCommandWithImplicitDF": {
     "commandId": 8080858949832763,
     "dataframes": [
      "_sqldf"
     ]
    },
    "pythonIndentUnit": 4
   },
   "notebookName": "06_delta_features",
   "widgets": {}
  },
  "language_info": {
   "name": "python"
  }
 },
 "nbformat": 4,
 "nbformat_minor": 0
}
