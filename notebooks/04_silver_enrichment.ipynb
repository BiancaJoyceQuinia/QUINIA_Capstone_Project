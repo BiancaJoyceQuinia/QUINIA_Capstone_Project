{
 "cells": [
  {
   "cell_type": "code",
   "execution_count": 0,
   "metadata": {
    "application/vnd.databricks.v1+cell": {
     "cellMetadata": {},
     "inputWidgets": {},
     "nuid": "8422d2ed-b358-427f-90d9-c7c557a1d9f1",
     "showTitle": false,
     "tableResultSettingsMap": {},
     "title": ""
    }
   },
   "outputs": [],
   "source": [
    "claims = spark.table(\"workspace.healthcare.silver_claims_dedup\")\n",
    "members = spark.table(\"workspace.healthcare.bronze_members_raw\")\n",
    "providers = spark.table(\"workspace.healthcare.bronze_providers_raw\")\n",
    "diag_ref = spark.table(\"workspace.healthcare.bronze_diag_ref_raw\")\n",
    "\n",
    "enriched = (claims.alias(\"c\")\n",
    "             .join(members.alias(\"m\"), \"MemberID\", \"left\")\n",
    "             .join(providers.alias(\"p\"), \"ProviderID\", \"left\"))\n",
    "\n",
    "# Add risk flag\n",
    "enriched = enriched.withColumn(\n",
    "    \"diagnosis_high_risk\",\n",
    "    F.when(F.upper(F.col(\"c.DiagnosisCode\")).isin(\"D123\",\"X999\"), True).otherwise(False)\n",
    ")\n",
    "\n",
    "display(enriched.limit(5))"
   ]
  }
 ],
 "metadata": {
  "application/vnd.databricks.v1+notebook": {
   "computePreferences": null,
   "dashboards": [],
   "environmentMetadata": {
    "base_environment": "",
    "environment_version": "3"
   },
   "inputWidgetPreferences": null,
   "language": "python",
   "notebookMetadata": {
    "pythonIndentUnit": 4
   },
   "notebookName": "04_silver_enrichment",
   "widgets": {}
  },
  "language_info": {
   "name": "python"
  }
 },
 "nbformat": 4,
 "nbformat_minor": 0
}
